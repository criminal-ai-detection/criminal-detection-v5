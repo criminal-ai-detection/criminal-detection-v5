{
 "cells": [
  {
   "cell_type": "code",
   "execution_count": 1,
   "metadata": {},
   "outputs": [],
   "source": [
    "import os\n",
    "import base64"
   ]
  },
  {
   "cell_type": "code",
   "execution_count": 6,
   "metadata": {},
   "outputs": [
    {
     "name": "stdout",
     "output_type": "stream",
     "text": [
      "yeag\n",
      "yeag\n",
      "yeag\n",
      "yeag\n",
      "yeag\n",
      "yeag\n",
      "yeag\n",
      "yeag\n",
      "yeag\n",
      "yeag\n",
      "yeag\n",
      "yeag\n",
      "yeag\n"
     ]
    }
   ],
   "source": [
    "sample_images_dir = \"../../sample_images\"\n",
    "images = []\n",
    "    \n",
    "for filename in os.listdir(sample_images_dir):\n",
    "    if filename.lower().endswith(('.png', '.jpg', '.jpeg')):\n",
    "        file_path = os.path.join(sample_images_dir, filename)\n",
    "        with open(file_path, \"rb\") as image_file:\n",
    "            encoded_string = base64.b64encode(image_file.read()).decode()\n",
    "            images.append(encoded_string)\n",
    "            \n",
    "            print(\"yeag\")\n",
    "\n"
   ]
  },
  {
   "cell_type": "code",
   "execution_count": null,
   "metadata": {},
   "outputs": [],
   "source": []
  }
 ],
 "metadata": {
  "kernelspec": {
   "display_name": "deepface-dev",
   "language": "python",
   "name": "python3"
  },
  "language_info": {
   "codemirror_mode": {
    "name": "ipython",
    "version": 3
   },
   "file_extension": ".py",
   "mimetype": "text/x-python",
   "name": "python",
   "nbconvert_exporter": "python",
   "pygments_lexer": "ipython3",
   "version": "3.12.4"
  }
 },
 "nbformat": 4,
 "nbformat_minor": 2
}
